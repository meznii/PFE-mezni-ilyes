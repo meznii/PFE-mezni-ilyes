{
 "cells": [
  {
   "cell_type": "code",
   "execution_count": 1,
   "id": "liquid-analyst",
   "metadata": {},
   "outputs": [],
   "source": [
    "from prediction import predector"
   ]
  },
  {
   "cell_type": "code",
   "execution_count": 2,
   "id": "realistic-mechanics",
   "metadata": {},
   "outputs": [],
   "source": [
    "data = [3011.8631591796875, 5707.232666015625, 5031.0931396484375, 5147.526611328125,\n",
    "              4981.683349609375, 5038.087890625, 3453.63916015625, 2790.5244064331055, 4825.910598754883,\n",
    "              4844.417053222656, 5128.901123046875, 5009.976318359375, 4738.457763671875, 4743.9345703125,\n",
    "              4988.9228515625, 4378.259765625, 4568.2470703125, 4211.5927734375, 4699.65673828125,\n",
    "              4165.4658203125, 4428.2421875, 4680.9453125, 4598.6533203125, 4824.1162109375,\n",
    "              4856.6982421875, 4702.94921875, 4751.90234375, 5027.4189453125, 4734.431640625,4778.4404296875, 5056.65625, 4865.3984375, 4788.53515625, 4716.8984375, 5099.556640625,\n",
    "              4724.65234375, 4722.607421875, 4893.21875, 4649.845703125, 4789.7890625, 4599.26953125,\n",
    "              4260.751953125, 4505.677734375, 4244.111328125, 4708.701171875, 4581.5859375, 4788.494140625 , \n",
    "             5013.822265625, 4939.44140625, 4555.728515625]"
   ]
  },
  {
   "cell_type": "code",
   "execution_count": 3,
   "id": "dangerous-advantage",
   "metadata": {},
   "outputs": [
    {
     "name": "stdout",
     "output_type": "stream",
     "text": [
      "object created\n",
      "prediction class \n"
     ]
    }
   ],
   "source": [
    "pr = predector()"
   ]
  },
  {
   "cell_type": "code",
   "execution_count": 4,
   "id": "golden-saskatchewan",
   "metadata": {},
   "outputs": [
    {
     "name": "stderr",
     "output_type": "stream",
     "text": [
      "C:\\Users\\21625\\Miniconda3\\envs\\tensorflow\\lib\\site-packages\\sklearn\\base.py:329: UserWarning: Trying to unpickle estimator MinMaxScaler from version 0.22.2.post1 when using version 0.23.2. This might lead to breaking code or invalid results. Use at your own risk.\n",
      "  warnings.warn(\n"
     ]
    },
    {
     "name": "stdout",
     "output_type": "stream",
     "text": [
      "input data    [[0.12897517]]\n"
     ]
    },
    {
     "name": "stderr",
     "output_type": "stream",
     "text": [
      "C:\\Users\\21625\\Miniconda3\\envs\\tensorflow\\lib\\site-packages\\sklearn\\base.py:329: UserWarning: Trying to unpickle estimator MinMaxScaler from version 0.22.2.post1 when using version 0.23.2. This might lead to breaking code or invalid results. Use at your own risk.\n",
      "  warnings.warn(\n"
     ]
    },
    {
     "data": {
      "text/plain": [
       "array([[0.12897517]], dtype=float32)"
      ]
     },
     "execution_count": 4,
     "metadata": {},
     "output_type": "execute_result"
    }
   ],
   "source": [
    "pr.predict(data)"
   ]
  },
  {
   "cell_type": "code",
   "execution_count": null,
   "id": "composite-hungarian",
   "metadata": {},
   "outputs": [],
   "source": []
  }
 ],
 "metadata": {
  "kernelspec": {
   "display_name": "Python 3",
   "language": "python",
   "name": "python3"
  },
  "language_info": {
   "codemirror_mode": {
    "name": "ipython",
    "version": 3
   },
   "file_extension": ".py",
   "mimetype": "text/x-python",
   "name": "python",
   "nbconvert_exporter": "python",
   "pygments_lexer": "ipython3",
   "version": "3.8.5"
  }
 },
 "nbformat": 4,
 "nbformat_minor": 5
}
