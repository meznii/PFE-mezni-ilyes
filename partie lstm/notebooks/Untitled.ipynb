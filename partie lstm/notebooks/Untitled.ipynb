{
 "cells": [
  {
   "cell_type": "code",
   "execution_count": 1,
   "id": "single-valley",
   "metadata": {},
   "outputs": [],
   "source": [
    "import pandas as pd\n",
    "import numpy as np"
   ]
  },
  {
   "cell_type": "code",
   "execution_count": 2,
   "id": "labeled-corner",
   "metadata": {},
   "outputs": [],
   "source": [
    "dataset = pd.read_csv(\"../datasets/archive_en_p_heur.csv\", sep=\";\")\n",
    "for k in dataset.keys():\n",
    "    if len(dataset[k].value_counts()) < 2 :\n",
    "        dataset.drop(columns=[k], inplace=True)"
   ]
  },
  {
   "cell_type": "code",
   "execution_count": 4,
   "id": "former-persian",
   "metadata": {},
   "outputs": [],
   "source": [
    "dataset['date'] = pd.to_datetime(dataset['date'])\n",
    "data = dataset.copy()\n",
    "data['year'] = data['date'].dt.year\n",
    "data['month'] = data['date'].dt.month\n",
    "data['day'] = data['date'].dt.day_name()\n",
    "data['hour'] = data['date'].dt.hour\n",
    "data['cons_glbal'] = data['cons_en_L1'] + data['cons_en_L2'] + data['cons_en_L3'] "
   ]
  },
  {
   "cell_type": "code",
   "execution_count": 12,
   "id": "demonstrated-tulsa",
   "metadata": {},
   "outputs": [
    {
     "data": {
      "text/plain": [
       "{243: 15104, 192: 14979, 34: 14808, 246: 14803, 253: 14406}"
      ]
     },
     "execution_count": 12,
     "metadata": {},
     "output_type": "execute_result"
    }
   ],
   "source": [
    "devices = dict(data[\"id_device\"].value_counts())\n",
    "devices"
   ]
  },
  {
   "cell_type": "code",
   "execution_count": 32,
   "id": "dental-owner",
   "metadata": {},
   "outputs": [],
   "source": [
    "def transform_data(data, number_of_samples, number_of_result):\n",
    "    features = data['cons_glbal'].values.reshape(-1,1)\n",
    "    X, Y = [], []\n",
    "    list_devices = list(data[\"id_device\"])\n",
    "    for device in devices :\n",
    "        start_index = list_devices.index(device)\n",
    "        print(start_index)\n",
    "        for i in range (0,devices[device]-number_of_samples,number_of_samples):\n",
    "            X.append(features[start_index+i:start_index+i+number_of_samples,0])\n",
    "            Y.append(features[start_index+i+number_of_samples:start_index+i+number_of_samples+number_of_result,0])\n",
    "\n",
    "    return X, Y\n"
   ]
  },
  {
   "cell_type": "code",
   "execution_count": 35,
   "id": "approximate-journalist",
   "metadata": {},
   "outputs": [],
   "source": [
    "x, y = transform_data(data, 50)"
   ]
  },
  {
   "cell_type": "code",
   "execution_count": 38,
   "id": "mechanical-macintosh",
   "metadata": {},
   "outputs": [
    {
     "data": {
      "text/plain": [
       "(73845, 50)"
      ]
     },
     "execution_count": 38,
     "metadata": {},
     "output_type": "execute_result"
    }
   ],
   "source": [
    "x"
   ]
  },
  {
   "cell_type": "code",
   "execution_count": 37,
   "id": "linear-marriage",
   "metadata": {},
   "outputs": [
    {
     "data": {
      "text/plain": [
       "array([ 9595.19140625,  9219.6875    ,  9362.2421875 , ...,\n",
       "       17292.5       , 16280.625     , 16264.875     ])"
      ]
     },
     "execution_count": 37,
     "metadata": {},
     "output_type": "execute_result"
    }
   ],
   "source": [
    "y"
   ]
  },
  {
   "cell_type": "code",
   "execution_count": null,
   "id": "unable-confidentiality",
   "metadata": {},
   "outputs": [],
   "source": []
  }
 ],
 "metadata": {
  "kernelspec": {
   "display_name": "Python 3",
   "language": "python",
   "name": "python3"
  },
  "language_info": {
   "codemirror_mode": {
    "name": "ipython",
    "version": 3
   },
   "file_extension": ".py",
   "mimetype": "text/x-python",
   "name": "python",
   "nbconvert_exporter": "python",
   "pygments_lexer": "ipython3",
   "version": "3.8.5"
  }
 },
 "nbformat": 4,
 "nbformat_minor": 5
}
