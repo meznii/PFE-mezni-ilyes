{
 "cells": [
  {
   "cell_type": "code",
   "execution_count": 5,
   "metadata": {},
   "outputs": [],
   "source": [
    "import pandas as pd\n",
    "import numpy as np"
   ]
  },
  {
   "cell_type": "code",
   "execution_count": 7,
   "metadata": {},
   "outputs": [],
   "source": [
    "dataset = pd.read_csv(\"../datasets/archive_en_p_heur.csv\", sep=\";\")"
   ]
  },
  {
   "cell_type": "code",
   "execution_count": 3,
   "metadata": {},
   "outputs": [
    {
     "data": {
      "text/html": [
       "<div>\n",
       "<style scoped>\n",
       "    .dataframe tbody tr th:only-of-type {\n",
       "        vertical-align: middle;\n",
       "    }\n",
       "\n",
       "    .dataframe tbody tr th {\n",
       "        vertical-align: top;\n",
       "    }\n",
       "\n",
       "    .dataframe thead th {\n",
       "        text-align: right;\n",
       "    }\n",
       "</style>\n",
       "<table border=\"1\" class=\"dataframe\">\n",
       "  <thead>\n",
       "    <tr style=\"text-align: right;\">\n",
       "      <th></th>\n",
       "      <th>id_device</th>\n",
       "      <th>date</th>\n",
       "      <th>en_L1</th>\n",
       "      <th>cons_en_L1</th>\n",
       "      <th>en_L2</th>\n",
       "      <th>cons_en_L2</th>\n",
       "      <th>en_L3</th>\n",
       "      <th>cons_en_L3</th>\n",
       "      <th>en_L4</th>\n",
       "      <th>cons_en_L4</th>\n",
       "      <th>...</th>\n",
       "      <th>min_THD_L4</th>\n",
       "      <th>max_THD_L4</th>\n",
       "      <th>moy_THD_L4</th>\n",
       "      <th>min_THD_L5</th>\n",
       "      <th>max_THD_L5</th>\n",
       "      <th>moy_THD_L5</th>\n",
       "      <th>min_THD_L6</th>\n",
       "      <th>max_THD_L6</th>\n",
       "      <th>moy_THD_L6</th>\n",
       "      <th>battery_level</th>\n",
       "    </tr>\n",
       "  </thead>\n",
       "  <tbody>\n",
       "    <tr>\n",
       "      <th>0</th>\n",
       "      <td>34</td>\n",
       "      <td>16/07/2019 9:00</td>\n",
       "      <td>8.068350e+02</td>\n",
       "      <td>806.834961</td>\n",
       "      <td>2.069453e+03</td>\n",
       "      <td>2069.452637</td>\n",
       "      <td>1.355756e+02</td>\n",
       "      <td>135.575562</td>\n",
       "      <td>0</td>\n",
       "      <td>0</td>\n",
       "      <td>...</td>\n",
       "      <td>0</td>\n",
       "      <td>0</td>\n",
       "      <td>0</td>\n",
       "      <td>0</td>\n",
       "      <td>0</td>\n",
       "      <td>0</td>\n",
       "      <td>0</td>\n",
       "      <td>0</td>\n",
       "      <td>0</td>\n",
       "      <td>0</td>\n",
       "    </tr>\n",
       "    <tr>\n",
       "      <th>1</th>\n",
       "      <td>34</td>\n",
       "      <td>16/07/2019 10:00</td>\n",
       "      <td>2.289109e+03</td>\n",
       "      <td>1482.274170</td>\n",
       "      <td>5.071029e+03</td>\n",
       "      <td>3001.576660</td>\n",
       "      <td>1.358957e+03</td>\n",
       "      <td>1223.381836</td>\n",
       "      <td>0</td>\n",
       "      <td>0</td>\n",
       "      <td>...</td>\n",
       "      <td>0</td>\n",
       "      <td>0</td>\n",
       "      <td>0</td>\n",
       "      <td>0</td>\n",
       "      <td>0</td>\n",
       "      <td>0</td>\n",
       "      <td>0</td>\n",
       "      <td>0</td>\n",
       "      <td>0</td>\n",
       "      <td>0</td>\n",
       "    </tr>\n",
       "    <tr>\n",
       "      <th>2</th>\n",
       "      <td>34</td>\n",
       "      <td>16/07/2019 11:00</td>\n",
       "      <td>3.494929e+03</td>\n",
       "      <td>1205.819580</td>\n",
       "      <td>7.951330e+03</td>\n",
       "      <td>2880.300781</td>\n",
       "      <td>2.303930e+03</td>\n",
       "      <td>944.972778</td>\n",
       "      <td>0</td>\n",
       "      <td>0</td>\n",
       "      <td>...</td>\n",
       "      <td>0</td>\n",
       "      <td>0</td>\n",
       "      <td>0</td>\n",
       "      <td>0</td>\n",
       "      <td>0</td>\n",
       "      <td>0</td>\n",
       "      <td>0</td>\n",
       "      <td>0</td>\n",
       "      <td>0</td>\n",
       "      <td>0</td>\n",
       "    </tr>\n",
       "    <tr>\n",
       "      <th>3</th>\n",
       "      <td>34</td>\n",
       "      <td>16/07/2019 12:00</td>\n",
       "      <td>4.859251e+03</td>\n",
       "      <td>1364.322754</td>\n",
       "      <td>1.078176e+04</td>\n",
       "      <td>2830.430664</td>\n",
       "      <td>3.256703e+03</td>\n",
       "      <td>952.773193</td>\n",
       "      <td>0</td>\n",
       "      <td>0</td>\n",
       "      <td>...</td>\n",
       "      <td>0</td>\n",
       "      <td>0</td>\n",
       "      <td>0</td>\n",
       "      <td>0</td>\n",
       "      <td>0</td>\n",
       "      <td>0</td>\n",
       "      <td>0</td>\n",
       "      <td>0</td>\n",
       "      <td>0</td>\n",
       "      <td>0</td>\n",
       "    </tr>\n",
       "    <tr>\n",
       "      <th>4</th>\n",
       "      <td>34</td>\n",
       "      <td>16/07/2019 13:00</td>\n",
       "      <td>6.098753e+03</td>\n",
       "      <td>1239.501465</td>\n",
       "      <td>1.372338e+04</td>\n",
       "      <td>2941.621094</td>\n",
       "      <td>4.057264e+03</td>\n",
       "      <td>800.560791</td>\n",
       "      <td>0</td>\n",
       "      <td>0</td>\n",
       "      <td>...</td>\n",
       "      <td>0</td>\n",
       "      <td>0</td>\n",
       "      <td>0</td>\n",
       "      <td>0</td>\n",
       "      <td>0</td>\n",
       "      <td>0</td>\n",
       "      <td>0</td>\n",
       "      <td>0</td>\n",
       "      <td>0</td>\n",
       "      <td>0</td>\n",
       "    </tr>\n",
       "    <tr>\n",
       "      <th>...</th>\n",
       "      <td>...</td>\n",
       "      <td>...</td>\n",
       "      <td>...</td>\n",
       "      <td>...</td>\n",
       "      <td>...</td>\n",
       "      <td>...</td>\n",
       "      <td>...</td>\n",
       "      <td>...</td>\n",
       "      <td>...</td>\n",
       "      <td>...</td>\n",
       "      <td>...</td>\n",
       "      <td>...</td>\n",
       "      <td>...</td>\n",
       "      <td>...</td>\n",
       "      <td>...</td>\n",
       "      <td>...</td>\n",
       "      <td>...</td>\n",
       "      <td>...</td>\n",
       "      <td>...</td>\n",
       "      <td>...</td>\n",
       "      <td>...</td>\n",
       "    </tr>\n",
       "    <tr>\n",
       "      <th>74095</th>\n",
       "      <td>253</td>\n",
       "      <td>25/03/2021 2:00</td>\n",
       "      <td>9.906793e+07</td>\n",
       "      <td>5959.625000</td>\n",
       "      <td>9.468990e+07</td>\n",
       "      <td>5776.625000</td>\n",
       "      <td>7.566063e+07</td>\n",
       "      <td>4894.250000</td>\n",
       "      <td>0</td>\n",
       "      <td>0</td>\n",
       "      <td>...</td>\n",
       "      <td>0</td>\n",
       "      <td>0</td>\n",
       "      <td>0</td>\n",
       "      <td>0</td>\n",
       "      <td>0</td>\n",
       "      <td>0</td>\n",
       "      <td>0</td>\n",
       "      <td>0</td>\n",
       "      <td>0</td>\n",
       "      <td>0</td>\n",
       "    </tr>\n",
       "    <tr>\n",
       "      <th>74096</th>\n",
       "      <td>253</td>\n",
       "      <td>25/03/2021 3:00</td>\n",
       "      <td>9.907422e+07</td>\n",
       "      <td>6293.125000</td>\n",
       "      <td>9.469575e+07</td>\n",
       "      <td>5852.000000</td>\n",
       "      <td>7.566577e+07</td>\n",
       "      <td>5147.375000</td>\n",
       "      <td>0</td>\n",
       "      <td>0</td>\n",
       "      <td>...</td>\n",
       "      <td>0</td>\n",
       "      <td>0</td>\n",
       "      <td>0</td>\n",
       "      <td>0</td>\n",
       "      <td>0</td>\n",
       "      <td>0</td>\n",
       "      <td>0</td>\n",
       "      <td>0</td>\n",
       "      <td>0</td>\n",
       "      <td>0</td>\n",
       "    </tr>\n",
       "    <tr>\n",
       "      <th>74097</th>\n",
       "      <td>253</td>\n",
       "      <td>25/03/2021 4:00</td>\n",
       "      <td>9.908019e+07</td>\n",
       "      <td>5970.000000</td>\n",
       "      <td>9.470129e+07</td>\n",
       "      <td>5531.625000</td>\n",
       "      <td>7.567055e+07</td>\n",
       "      <td>4779.000000</td>\n",
       "      <td>0</td>\n",
       "      <td>0</td>\n",
       "      <td>...</td>\n",
       "      <td>0</td>\n",
       "      <td>0</td>\n",
       "      <td>0</td>\n",
       "      <td>0</td>\n",
       "      <td>0</td>\n",
       "      <td>0</td>\n",
       "      <td>0</td>\n",
       "      <td>0</td>\n",
       "      <td>0</td>\n",
       "      <td>0</td>\n",
       "    </tr>\n",
       "    <tr>\n",
       "      <th>74098</th>\n",
       "      <td>253</td>\n",
       "      <td>25/03/2021 5:00</td>\n",
       "      <td>9.908592e+07</td>\n",
       "      <td>5731.625000</td>\n",
       "      <td>9.470688e+07</td>\n",
       "      <td>5597.375000</td>\n",
       "      <td>7.567549e+07</td>\n",
       "      <td>4935.875000</td>\n",
       "      <td>0</td>\n",
       "      <td>0</td>\n",
       "      <td>...</td>\n",
       "      <td>0</td>\n",
       "      <td>0</td>\n",
       "      <td>0</td>\n",
       "      <td>0</td>\n",
       "      <td>0</td>\n",
       "      <td>0</td>\n",
       "      <td>0</td>\n",
       "      <td>0</td>\n",
       "      <td>0</td>\n",
       "      <td>0</td>\n",
       "    </tr>\n",
       "    <tr>\n",
       "      <th>74099</th>\n",
       "      <td>253</td>\n",
       "      <td>25/03/2021 6:00</td>\n",
       "      <td>9.908808e+07</td>\n",
       "      <td>2157.125000</td>\n",
       "      <td>9.470908e+07</td>\n",
       "      <td>2193.000000</td>\n",
       "      <td>7.567740e+07</td>\n",
       "      <td>1914.375000</td>\n",
       "      <td>0</td>\n",
       "      <td>0</td>\n",
       "      <td>...</td>\n",
       "      <td>0</td>\n",
       "      <td>0</td>\n",
       "      <td>0</td>\n",
       "      <td>0</td>\n",
       "      <td>0</td>\n",
       "      <td>0</td>\n",
       "      <td>0</td>\n",
       "      <td>0</td>\n",
       "      <td>0</td>\n",
       "      <td>0</td>\n",
       "    </tr>\n",
       "  </tbody>\n",
       "</table>\n",
       "<p>74100 rows × 51 columns</p>\n",
       "</div>"
      ],
      "text/plain": [
       "       id_device              date         en_L1   cons_en_L1         en_L2  \\\n",
       "0             34   16/07/2019 9:00  8.068350e+02   806.834961  2.069453e+03   \n",
       "1             34  16/07/2019 10:00  2.289109e+03  1482.274170  5.071029e+03   \n",
       "2             34  16/07/2019 11:00  3.494929e+03  1205.819580  7.951330e+03   \n",
       "3             34  16/07/2019 12:00  4.859251e+03  1364.322754  1.078176e+04   \n",
       "4             34  16/07/2019 13:00  6.098753e+03  1239.501465  1.372338e+04   \n",
       "...          ...               ...           ...          ...           ...   \n",
       "74095        253   25/03/2021 2:00  9.906793e+07  5959.625000  9.468990e+07   \n",
       "74096        253   25/03/2021 3:00  9.907422e+07  6293.125000  9.469575e+07   \n",
       "74097        253   25/03/2021 4:00  9.908019e+07  5970.000000  9.470129e+07   \n",
       "74098        253   25/03/2021 5:00  9.908592e+07  5731.625000  9.470688e+07   \n",
       "74099        253   25/03/2021 6:00  9.908808e+07  2157.125000  9.470908e+07   \n",
       "\n",
       "        cons_en_L2         en_L3   cons_en_L3  en_L4  cons_en_L4  ...  \\\n",
       "0      2069.452637  1.355756e+02   135.575562      0           0  ...   \n",
       "1      3001.576660  1.358957e+03  1223.381836      0           0  ...   \n",
       "2      2880.300781  2.303930e+03   944.972778      0           0  ...   \n",
       "3      2830.430664  3.256703e+03   952.773193      0           0  ...   \n",
       "4      2941.621094  4.057264e+03   800.560791      0           0  ...   \n",
       "...            ...           ...          ...    ...         ...  ...   \n",
       "74095  5776.625000  7.566063e+07  4894.250000      0           0  ...   \n",
       "74096  5852.000000  7.566577e+07  5147.375000      0           0  ...   \n",
       "74097  5531.625000  7.567055e+07  4779.000000      0           0  ...   \n",
       "74098  5597.375000  7.567549e+07  4935.875000      0           0  ...   \n",
       "74099  2193.000000  7.567740e+07  1914.375000      0           0  ...   \n",
       "\n",
       "       min_THD_L4  max_THD_L4  moy_THD_L4  min_THD_L5  max_THD_L5  moy_THD_L5  \\\n",
       "0               0           0           0           0           0           0   \n",
       "1               0           0           0           0           0           0   \n",
       "2               0           0           0           0           0           0   \n",
       "3               0           0           0           0           0           0   \n",
       "4               0           0           0           0           0           0   \n",
       "...           ...         ...         ...         ...         ...         ...   \n",
       "74095           0           0           0           0           0           0   \n",
       "74096           0           0           0           0           0           0   \n",
       "74097           0           0           0           0           0           0   \n",
       "74098           0           0           0           0           0           0   \n",
       "74099           0           0           0           0           0           0   \n",
       "\n",
       "       min_THD_L6  max_THD_L6  moy_THD_L6  battery_level  \n",
       "0               0           0           0              0  \n",
       "1               0           0           0              0  \n",
       "2               0           0           0              0  \n",
       "3               0           0           0              0  \n",
       "4               0           0           0              0  \n",
       "...           ...         ...         ...            ...  \n",
       "74095           0           0           0              0  \n",
       "74096           0           0           0              0  \n",
       "74097           0           0           0              0  \n",
       "74098           0           0           0              0  \n",
       "74099           0           0           0              0  \n",
       "\n",
       "[74100 rows x 51 columns]"
      ]
     },
     "execution_count": 3,
     "metadata": {},
     "output_type": "execute_result"
    }
   ],
   "source": [
    "dataset"
   ]
  },
  {
   "cell_type": "code",
   "execution_count": 4,
   "metadata": {},
   "outputs": [],
   "source": [
    "for k in dataset.keys():\n",
    "    if len(dataset[k].value_counts()) < 2 :\n",
    "        dataset.drop(columns=[k], inplace=True)"
   ]
  },
  {
   "cell_type": "code",
   "execution_count": 5,
   "metadata": {},
   "outputs": [],
   "source": [
    "dataset['date'] = pd.to_datetime(dataset['date'])"
   ]
  },
  {
   "cell_type": "code",
   "execution_count": 6,
   "metadata": {},
   "outputs": [],
   "source": [
    "data = dataset.copy()"
   ]
  },
  {
   "cell_type": "code",
   "execution_count": 7,
   "metadata": {},
   "outputs": [],
   "source": [
    "data['year'] = data['date'].dt.year\n",
    "data['month'] = data['date'].dt.month\n",
    "data['day'] = data['date'].dt.day_name()\n",
    "data['hour'] = data['date'].dt.hour"
   ]
  },
  {
   "cell_type": "code",
   "execution_count": 8,
   "metadata": {},
   "outputs": [],
   "source": [
    "data['cons_glbal'] = data['cons_en_L1'] + data['cons_en_L2'] + data['cons_en_L3'] "
   ]
  },
  {
   "cell_type": "code",
   "execution_count": 9,
   "metadata": {},
   "outputs": [],
   "source": [
    "devices = dict(data[\"id_device\"].value_counts())"
   ]
  },
  {
   "cell_type": "code",
   "execution_count": 11,
   "metadata": {},
   "outputs": [],
   "source": [
    "def transform_data(data, number_of_samples, number_of_result):\n",
    "    features = data['cons_glbal'].values.reshape(-1,1)\n",
    "    X, Y = [], []\n",
    "    list_devices = list(data[\"id_device\"])\n",
    "    for device in devices :\n",
    "        start_index = list_devices.index(device)\n",
    "        for i in range (0,devices[device]-number_of_samples,number_of_samples):\n",
    "            X.append(features[start_index+i:start_index+i+number_of_samples,0])\n",
    "            Y.append(features[start_index+i+number_of_samples:start_index+i+number_of_samples+number_of_result,0])\n",
    "\n",
    "    return X, Y\n"
   ]
  },
  {
   "cell_type": "code",
   "execution_count": 42,
   "metadata": {},
   "outputs": [],
   "source": [
    "X, Y = transform_data(data, 50, 1)"
   ]
  },
  {
   "cell_type": "code",
   "execution_count": null,
   "metadata": {},
   "outputs": [],
   "source": []
  },
  {
   "cell_type": "code",
   "execution_count": 13,
   "metadata": {},
   "outputs": [],
   "source": [
    "X = np.array(X)\n"
   ]
  },
  {
   "cell_type": "code",
   "execution_count": 14,
   "metadata": {},
   "outputs": [],
   "source": [
    "Y = np.array(Y)"
   ]
  },
  {
   "cell_type": "code",
   "execution_count": 15,
   "metadata": {},
   "outputs": [
    {
     "data": {
      "text/plain": [
       "(1481, 50)"
      ]
     },
     "execution_count": 15,
     "metadata": {},
     "output_type": "execute_result"
    }
   ],
   "source": [
    "X.shape"
   ]
  },
  {
   "cell_type": "code",
   "execution_count": 16,
   "metadata": {},
   "outputs": [],
   "source": [
    "from sklearn.preprocessing import MinMaxScaler\n",
    "scaler = MinMaxScaler(feature_range=(0, 1))\n",
    "scaler2 = MinMaxScaler(feature_range=(0, 1))\n",
    "X_scaled = scaler.fit_transform(X)\n",
    "Y = scaler2.fit_transform(Y)"
   ]
  },
  {
   "cell_type": "code",
   "execution_count": 17,
   "metadata": {},
   "outputs": [],
   "source": [
    "import pickle as pk "
   ]
  },
  {
   "cell_type": "code",
   "execution_count": 18,
   "metadata": {},
   "outputs": [],
   "source": [
    "file = open(\"../models/scaler.pkl\", \"wb\")\n",
    "pk.dump(scaler, file)\n",
    "file.close()\n",
    "file = open(\"../models/scalerY.pkl\", \"wb\")\n",
    "pk.dump(scaler2, file)\n",
    "file.close()"
   ]
  },
  {
   "cell_type": "code",
   "execution_count": 19,
   "metadata": {},
   "outputs": [],
   "source": [
    "X_scaled = np.expand_dims(X_scaled, -1)"
   ]
  },
  {
   "cell_type": "code",
   "execution_count": 20,
   "metadata": {},
   "outputs": [
    {
     "data": {
      "text/plain": [
       "(1481, 50, 1)"
      ]
     },
     "execution_count": 20,
     "metadata": {},
     "output_type": "execute_result"
    }
   ],
   "source": [
    "X_scaled.shape"
   ]
  },
  {
   "cell_type": "code",
   "execution_count": 21,
   "metadata": {},
   "outputs": [
    {
     "data": {
      "text/plain": [
       "(1481, 1)"
      ]
     },
     "execution_count": 21,
     "metadata": {},
     "output_type": "execute_result"
    }
   ],
   "source": [
    "Y.shape"
   ]
  },
  {
   "cell_type": "code",
   "execution_count": 22,
   "metadata": {},
   "outputs": [],
   "source": [
    "from sklearn.model_selection import train_test_split"
   ]
  },
  {
   "cell_type": "code",
   "execution_count": 23,
   "metadata": {},
   "outputs": [],
   "source": [
    "X_train, X_test, Y_train, Y_test = train_test_split(X_scaled, Y, test_size = 0.2, shuffle=True)"
   ]
  },
  {
   "cell_type": "code",
   "execution_count": 24,
   "metadata": {},
   "outputs": [
    {
     "data": {
      "text/plain": [
       "array([[0.0303727 ],\n",
       "       [0.07204528],\n",
       "       [0.0945974 ],\n",
       "       ...,\n",
       "       [0.16049693],\n",
       "       [0.19398365],\n",
       "       [0.08507044]])"
      ]
     },
     "execution_count": 24,
     "metadata": {},
     "output_type": "execute_result"
    }
   ],
   "source": [
    "Y_train"
   ]
  },
  {
   "cell_type": "code",
   "execution_count": 25,
   "metadata": {},
   "outputs": [],
   "source": [
    "from keras.models import Sequential\n",
    "from keras.layers import Dense\n",
    "from keras.layers import LSTM\n",
    "from sklearn.preprocessing import MinMaxScaler\n",
    "from sklearn.metrics import mean_squared_error"
   ]
  },
  {
   "cell_type": "code",
   "execution_count": 40,
   "metadata": {},
   "outputs": [
    {
     "name": "stdout",
     "output_type": "stream",
     "text": [
      "Epoch 1/100\n",
      "17/17 [==============================] - 7s 117ms/step - loss: 0.0065 - val_loss: 3.7856e-04\n",
      "Epoch 2/100\n",
      "17/17 [==============================] - 1s 38ms/step - loss: 0.0025 - val_loss: 1.9389e-04\n",
      "Epoch 3/100\n",
      "17/17 [==============================] - 1s 37ms/step - loss: 8.0106e-04 - val_loss: 5.5786e-05\n",
      "Epoch 4/100\n",
      "17/17 [==============================] - 1s 39ms/step - loss: 0.0017 - val_loss: 5.7546e-05\n",
      "Epoch 5/100\n",
      "17/17 [==============================] - 1s 37ms/step - loss: 0.0027 - val_loss: 5.2797e-05\n",
      "Epoch 6/100\n",
      "17/17 [==============================] - 1s 41ms/step - loss: 8.1802e-04 - val_loss: 5.1834e-05\n",
      "Epoch 7/100\n",
      "17/17 [==============================] - 1s 42ms/step - loss: 0.0011 - val_loss: 5.1859e-05\n",
      "Epoch 8/100\n",
      "17/17 [==============================] - 1s 47ms/step - loss: 4.1779e-04 - val_loss: 9.1518e-05\n",
      "Epoch 9/100\n",
      "17/17 [==============================] - 1s 44ms/step - loss: 0.0012 - val_loss: 5.3340e-05\n",
      "Epoch 10/100\n",
      "17/17 [==============================] - 1s 41ms/step - loss: 6.8533e-04 - val_loss: 6.5835e-05\n",
      "Epoch 11/100\n",
      "17/17 [==============================] - 1s 52ms/step - loss: 5.9722e-04 - val_loss: 1.7606e-04\n",
      "Epoch 12/100\n",
      "17/17 [==============================] - 1s 47ms/step - loss: 8.8830e-04 - val_loss: 8.3769e-05\n",
      "Epoch 13/100\n",
      "17/17 [==============================] - 1s 44ms/step - loss: 0.0011 - val_loss: 5.2890e-05\n",
      "Epoch 14/100\n",
      "17/17 [==============================] - 1s 41ms/step - loss: 0.0021 - val_loss: 6.0040e-05\n",
      "Epoch 15/100\n",
      "17/17 [==============================] - 1s 39ms/step - loss: 0.0011 - val_loss: 6.0544e-05\n",
      "Epoch 16/100\n",
      "17/17 [==============================] - 1s 39ms/step - loss: 0.0033 - val_loss: 5.3068e-05\n",
      "Epoch 17/100\n",
      "17/17 [==============================] - 1s 39ms/step - loss: 0.0020 - val_loss: 8.2269e-05\n",
      "Epoch 18/100\n",
      "17/17 [==============================] - 1s 41ms/step - loss: 7.9214e-04 - val_loss: 6.5901e-05\n",
      "Epoch 19/100\n",
      "17/17 [==============================] - 1s 40ms/step - loss: 0.0030 - val_loss: 8.6531e-05\n",
      "Epoch 20/100\n",
      "17/17 [==============================] - 1s 40ms/step - loss: 7.4602e-04 - val_loss: 1.3844e-04\n",
      "Epoch 21/100\n",
      "17/17 [==============================] - 1s 43ms/step - loss: 6.4707e-04 - val_loss: 2.6112e-04\n",
      "Epoch 22/100\n",
      "17/17 [==============================] - 1s 40ms/step - loss: 0.0016 - val_loss: 9.7874e-05\n",
      "Epoch 23/100\n",
      "17/17 [==============================] - 1s 34ms/step - loss: 7.8196e-04 - val_loss: 1.7860e-04\n",
      "Epoch 24/100\n",
      "17/17 [==============================] - 1s 44ms/step - loss: 0.0016 - val_loss: 5.2812e-05\n",
      "Epoch 25/100\n",
      "17/17 [==============================] - 1s 37ms/step - loss: 0.0036 - val_loss: 6.5179e-05\n",
      "Epoch 26/100\n",
      "17/17 [==============================] - 1s 40ms/step - loss: 0.0025 - val_loss: 5.5972e-05\n",
      "Epoch 27/100\n",
      "17/17 [==============================] - 1s 42ms/step - loss: 0.0020 - val_loss: 1.2105e-04\n",
      "Epoch 28/100\n",
      "17/17 [==============================] - 1s 38ms/step - loss: 0.0026 - val_loss: 9.0162e-05\n",
      "Epoch 29/100\n",
      "17/17 [==============================] - 1s 37ms/step - loss: 9.7224e-04 - val_loss: 5.5897e-05\n",
      "Epoch 30/100\n",
      "17/17 [==============================] - 1s 42ms/step - loss: 4.4746e-04 - val_loss: 1.5951e-04\n",
      "Epoch 31/100\n",
      "17/17 [==============================] - 1s 41ms/step - loss: 0.0022 - val_loss: 9.5326e-05\n",
      "Epoch 32/100\n",
      "17/17 [==============================] - 1s 42ms/step - loss: 0.0045 - val_loss: 5.4642e-05\n",
      "Epoch 33/100\n",
      "17/17 [==============================] - 1s 45ms/step - loss: 2.6164e-04 - val_loss: 5.4503e-05\n",
      "Epoch 34/100\n",
      "17/17 [==============================] - 1s 40ms/step - loss: 0.0010 - val_loss: 6.0450e-05\n",
      "Epoch 35/100\n",
      "17/17 [==============================] - 1s 39ms/step - loss: 0.0020 - val_loss: 7.1457e-05\n",
      "Epoch 36/100\n",
      "17/17 [==============================] - 1s 50ms/step - loss: 6.8372e-04 - val_loss: 1.0706e-04\n",
      "Epoch 37/100\n",
      "17/17 [==============================] - 1s 38ms/step - loss: 5.4199e-04 - val_loss: 1.4703e-04\n",
      "Epoch 38/100\n",
      "17/17 [==============================] - 1s 37ms/step - loss: 0.0014 - val_loss: 5.3941e-05\n",
      "Epoch 39/100\n",
      "17/17 [==============================] - 1s 39ms/step - loss: 0.0018 - val_loss: 5.4215e-05\n",
      "Epoch 40/100\n",
      "17/17 [==============================] - 1s 39ms/step - loss: 0.0014 - val_loss: 5.9252e-05\n",
      "Epoch 41/100\n",
      "17/17 [==============================] - 1s 37ms/step - loss: 0.0018 - val_loss: 6.9311e-05\n",
      "Epoch 42/100\n",
      "17/17 [==============================] - 1s 38ms/step - loss: 0.0018 - val_loss: 6.3623e-05\n",
      "Epoch 43/100\n",
      "17/17 [==============================] - 1s 35ms/step - loss: 0.0013 - val_loss: 5.4933e-05\n",
      "Epoch 44/100\n",
      "17/17 [==============================] - 1s 34ms/step - loss: 0.0019 - val_loss: 5.4871e-05\n",
      "Epoch 45/100\n",
      "17/17 [==============================] - 1s 35ms/step - loss: 0.0019 - val_loss: 5.7446e-05\n",
      "Epoch 46/100\n",
      "17/17 [==============================] - 1s 42ms/step - loss: 9.4440e-04 - val_loss: 5.8238e-05\n",
      "Epoch 47/100\n",
      "17/17 [==============================] - 1s 46ms/step - loss: 6.9256e-04 - val_loss: 9.3624e-05\n",
      "Epoch 48/100\n",
      "17/17 [==============================] - 1s 47ms/step - loss: 0.0019 - val_loss: 5.7610e-05\n",
      "Epoch 49/100\n",
      "17/17 [==============================] - 1s 41ms/step - loss: 7.1237e-04 - val_loss: 9.0031e-05\n",
      "Epoch 50/100\n",
      "17/17 [==============================] - 1s 38ms/step - loss: 0.0011 - val_loss: 8.0474e-05\n",
      "Epoch 51/100\n",
      "17/17 [==============================] - 1s 39ms/step - loss: 0.0013 - val_loss: 5.6085e-05\n",
      "Epoch 52/100\n",
      "17/17 [==============================] - 1s 44ms/step - loss: 0.0019 - val_loss: 6.0205e-05\n",
      "Epoch 53/100\n",
      "17/17 [==============================] - 1s 50ms/step - loss: 0.0016 - val_loss: 6.5575e-05\n",
      "Epoch 54/100\n",
      "17/17 [==============================] - 1s 48ms/step - loss: 9.7238e-04 - val_loss: 6.0793e-05\n",
      "Epoch 55/100\n",
      "17/17 [==============================] - 1s 40ms/step - loss: 0.0017 - val_loss: 5.5564e-05\n",
      "Epoch 56/100\n",
      "17/17 [==============================] - 1s 41ms/step - loss: 0.0013 - val_loss: 5.6183e-05\n",
      "Epoch 57/100\n",
      "17/17 [==============================] - 1s 40ms/step - loss: 0.0017 - val_loss: 8.7978e-05\n",
      "Epoch 58/100\n",
      "17/17 [==============================] - 1s 42ms/step - loss: 0.0021 - val_loss: 1.2396e-04\n",
      "Epoch 59/100\n",
      "17/17 [==============================] - 1s 37ms/step - loss: 0.0022 - val_loss: 5.7467e-05\n",
      "Epoch 60/100\n",
      "17/17 [==============================] - 1s 39ms/step - loss: 0.0020 - val_loss: 6.0303e-05\n",
      "Epoch 61/100\n",
      "17/17 [==============================] - 1s 35ms/step - loss: 0.0026 - val_loss: 1.3960e-04\n",
      "Epoch 62/100\n",
      "17/17 [==============================] - 1s 42ms/step - loss: 0.0017 - val_loss: 7.9346e-05\n",
      "Epoch 63/100\n",
      "17/17 [==============================] - 1s 38ms/step - loss: 0.0028 - val_loss: 5.8013e-05\n",
      "Epoch 64/100\n",
      "17/17 [==============================] - 1s 40ms/step - loss: 0.0022 - val_loss: 7.4847e-05\n",
      "Epoch 65/100\n",
      "17/17 [==============================] - 1s 38ms/step - loss: 0.0013 - val_loss: 8.0505e-05\n",
      "Epoch 66/100\n",
      "17/17 [==============================] - 1s 42ms/step - loss: 0.0014 - val_loss: 5.7579e-05\n",
      "Epoch 67/100\n",
      "17/17 [==============================] - 1s 41ms/step - loss: 0.0017 - val_loss: 5.8625e-05\n",
      "Epoch 68/100\n",
      "17/17 [==============================] - 1s 44ms/step - loss: 0.0018 - val_loss: 5.6737e-05\n",
      "Epoch 69/100\n",
      "17/17 [==============================] - 1s 44ms/step - loss: 0.0013 - val_loss: 6.2008e-05\n",
      "Epoch 70/100\n",
      "17/17 [==============================] - 1s 46ms/step - loss: 0.0014 - val_loss: 5.6521e-05\n",
      "Epoch 71/100\n",
      "17/17 [==============================] - 1s 54ms/step - loss: 0.0012 - val_loss: 6.0613e-05\n",
      "Epoch 72/100\n",
      "17/17 [==============================] - 1s 40ms/step - loss: 0.0019 - val_loss: 8.9577e-05\n",
      "Epoch 73/100\n",
      "17/17 [==============================] - 1s 42ms/step - loss: 0.0028 - val_loss: 5.6756e-05\n",
      "Epoch 74/100\n",
      "17/17 [==============================] - 1s 40ms/step - loss: 0.0023 - val_loss: 5.7721e-05\n",
      "Epoch 75/100\n",
      "17/17 [==============================] - 1s 41ms/step - loss: 0.0019 - val_loss: 8.4987e-05\n",
      "Epoch 76/100\n",
      "17/17 [==============================] - 1s 40ms/step - loss: 0.0014 - val_loss: 7.6072e-05\n",
      "Epoch 77/100\n",
      "17/17 [==============================] - 1s 40ms/step - loss: 0.0013 - val_loss: 5.7450e-05\n",
      "Epoch 78/100\n"
     ]
    },
    {
     "name": "stdout",
     "output_type": "stream",
     "text": [
      "17/17 [==============================] - 1s 41ms/step - loss: 0.0016 - val_loss: 6.3761e-05\n",
      "Epoch 79/100\n",
      "17/17 [==============================] - 1s 45ms/step - loss: 0.0018 - val_loss: 5.8780e-05\n",
      "Epoch 80/100\n",
      "17/17 [==============================] - 1s 41ms/step - loss: 0.0020 - val_loss: 6.3983e-05\n",
      "Epoch 81/100\n",
      "17/17 [==============================] - 1s 44ms/step - loss: 0.0011 - val_loss: 6.8308e-05\n",
      "Epoch 82/100\n",
      "17/17 [==============================] - 1s 44ms/step - loss: 0.0011 - val_loss: 8.3528e-05\n",
      "Epoch 83/100\n",
      "17/17 [==============================] - 1s 42ms/step - loss: 0.0022 - val_loss: 5.7785e-05\n",
      "Epoch 84/100\n",
      "17/17 [==============================] - 1s 39ms/step - loss: 0.0013 - val_loss: 6.6195e-05\n",
      "Epoch 85/100\n",
      "17/17 [==============================] - 1s 41ms/step - loss: 0.0024 - val_loss: 7.5247e-05\n",
      "Epoch 86/100\n",
      "17/17 [==============================] - 1s 41ms/step - loss: 0.0012 - val_loss: 5.7719e-05\n",
      "Epoch 87/100\n",
      "17/17 [==============================] - 1s 41ms/step - loss: 0.0017 - val_loss: 7.3009e-05\n",
      "Epoch 88/100\n",
      "17/17 [==============================] - 1s 48ms/step - loss: 0.0027 - val_loss: 5.7976e-05\n",
      "Epoch 89/100\n",
      "17/17 [==============================] - 1s 43ms/step - loss: 0.0052 - val_loss: 8.7254e-05\n",
      "Epoch 90/100\n",
      "17/17 [==============================] - 1s 41ms/step - loss: 0.0041 - val_loss: 1.0262e-04\n",
      "Epoch 91/100\n",
      "17/17 [==============================] - 1s 42ms/step - loss: 0.0016 - val_loss: 6.4903e-05\n",
      "Epoch 92/100\n",
      "17/17 [==============================] - 1s 40ms/step - loss: 0.0029 - val_loss: 7.6440e-05\n",
      "Epoch 93/100\n",
      "17/17 [==============================] - 1s 42ms/step - loss: 0.0014 - val_loss: 5.8573e-05\n",
      "Epoch 94/100\n",
      "17/17 [==============================] - 1s 43ms/step - loss: 7.5550e-04 - val_loss: 1.3854e-04\n",
      "Epoch 95/100\n",
      "17/17 [==============================] - 1s 44ms/step - loss: 7.3952e-04 - val_loss: 1.2382e-04\n",
      "Epoch 96/100\n",
      "17/17 [==============================] - 1s 40ms/step - loss: 0.0021 - val_loss: 6.0189e-05\n",
      "Epoch 97/100\n",
      "17/17 [==============================] - 1s 41ms/step - loss: 0.0020 - val_loss: 8.9928e-05\n",
      "Epoch 98/100\n",
      "17/17 [==============================] - 1s 39ms/step - loss: 0.0013 - val_loss: 5.8315e-05\n",
      "Epoch 99/100\n",
      "17/17 [==============================] - 1s 40ms/step - loss: 0.0018 - val_loss: 6.0312e-05\n",
      "Epoch 100/100\n",
      "17/17 [==============================] - 1s 40ms/step - loss: 9.1613e-04 - val_loss: 9.2632e-05\n"
     ]
    }
   ],
   "source": [
    "model = Sequential()\n",
    "model.add(LSTM(50, input_shape=(50,1), activation=\"tanh\"))\n",
    "model.add(Dense(1))\n",
    "model.compile(loss='MSE', optimizer='adam')\n",
    "history = model.fit(X_train, Y_train, validation_data=(X_test, Y_test),epochs=100, batch_size=56, verbose=True)"
   ]
  },
  {
   "cell_type": "code",
   "execution_count": 29,
   "metadata": {},
   "outputs": [],
   "source": [
    "model.save(\"../models/prediction.h5\")"
   ]
  },
  {
   "cell_type": "code",
   "execution_count": 30,
   "metadata": {},
   "outputs": [],
   "source": [
    "from keras.models import load_model"
   ]
  },
  {
   "cell_type": "code",
   "execution_count": 31,
   "metadata": {},
   "outputs": [],
   "source": [
    "my_loaded_model = load_model(\"../models/prediction.h5\")"
   ]
  },
  {
   "cell_type": "code",
   "execution_count": 32,
   "metadata": {},
   "outputs": [
    {
     "name": "stdout",
     "output_type": "stream",
     "text": [
      "Model: \"sequential\"\n",
      "_________________________________________________________________\n",
      "Layer (type)                 Output Shape              Param #   \n",
      "=================================================================\n",
      "lstm (LSTM)                  (None, 50)                10400     \n",
      "_________________________________________________________________\n",
      "dense (Dense)                (None, 1)                 51        \n",
      "=================================================================\n",
      "Total params: 10,451\n",
      "Trainable params: 10,451\n",
      "Non-trainable params: 0\n",
      "_________________________________________________________________\n"
     ]
    }
   ],
   "source": [
    "my_loaded_model.summary()"
   ]
  },
  {
   "cell_type": "code",
   "execution_count": 33,
   "metadata": {},
   "outputs": [],
   "source": [
    "from keras.utils import plot_model"
   ]
  },
  {
   "cell_type": "code",
   "execution_count": 34,
   "metadata": {},
   "outputs": [
    {
     "name": "stdout",
     "output_type": "stream",
     "text": [
      "('Failed to import pydot. You must `pip install pydot` and install graphviz (https://graphviz.gitlab.io/download/), ', 'for `pydotprint` to work.')\n"
     ]
    }
   ],
   "source": [
    "plot_model(my_loaded_model,\n",
    "          to_file=\"../images/model.png\",\n",
    "          show_shapes =True,\n",
    "           dpi=100\n",
    "          )"
   ]
  },
  {
   "cell_type": "code",
   "execution_count": 41,
   "metadata": {},
   "outputs": [
    {
     "data": {
      "image/png": "[encoded data removed]",
      "text/plain": [
       "<Figure size 432x288 with 1 Axes>"
      ]
     },
     "metadata": {
      "needs_background": "light"
     },
     "output_type": "display_data"
    }
   ],
   "source": [
    "import matplotlib.pyplot as plt\n",
    "\n",
    "plt.plot(history.history['loss'])\n",
    "plt.plot(history.history['val_loss'])\n",
    "plt.title('model loss')\n",
    "plt.ylabel('loss')\n",
    "plt.xlabel('epoch')\n",
    "plt.legend(['train', 'val'], loc='upper left')\n",
    "plt.show()"
   ]
  },
  {
   "cell_type": "code",
   "execution_count": 45,
   "metadata": {},
   "outputs": [],
   "source": [
    "trainpred = model.predict(X_train)\n",
    "valpred = model.predict(X_test)"
   ]
  },
  {
   "cell_type": "code",
   "execution_count": 51,
   "metadata": {},
   "outputs": [
    {
     "data": {
      "text/plain": [
       "(1184, 1)"
      ]
     },
     "execution_count": 51,
     "metadata": {},
     "output_type": "execute_result"
    }
   ],
   "source": [
    "trainpred = scaler.inverse_transform(trainpred)\n",
    "Y_train = scaler.inverse_transform(Y_train)\n",
    "valpred = scaler.inverse_transform(valpred)\n",
    "Y_val = scaler.inverse_transform(Y_test])\n",
    "predictions = valpred"
   ]
  }
 ],
 "metadata": {
  "kernelspec": {
   "name": "python385jvsc74a57bd0917d65d153d68ebf5342cfeb518d41eaf55534f15303c9c69a286d62d878fe5c",
   "display_name": "Python 3.8.5 64-bit ('base': conda)"
  },
  "language_info": {
   "codemirror_mode": {
    "name": "ipython",
    "version": 3
   },
   "file_extension": ".py",
   "mimetype": "text/x-python",
   "name": "python",
   "nbconvert_exporter": "python",
   "pygments_lexer": "ipython3",
   "version": "3.8.5"
  }
 },
 "nbformat": 4,
 "nbformat_minor": 4
}